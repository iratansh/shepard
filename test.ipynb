{
 "cells": [
  {
   "cell_type": "code",
   "execution_count": null,
   "metadata": {},
   "outputs": [],
   "source": [
    "from functools import reduce\n",
    "from collections.abc import MutableMapping\n",
    "import numpy as np\n",
    "import cv2\n",
    "import math\n",
    "from math import cos, sin, tan, atan, radians\n",
    "import matplotlib.pyplot as plt\n",
    "from dronekit import connect\n",
    "import json\n",
    "%matplotlib inline\n"
   ]
  },
  {
   "cell_type": "code",
   "execution_count": null,
   "metadata": {},
   "outputs": [],
   "source": [
    "import cv2\n",
    "'''\n",
    "apiPreference    preferred Capture API backends to use. \n",
    "Can be used to enforce a specific reader implementation \n",
    "if multiple are available: \n",
    "e.g. cv2.CAP_MSMF or cv2.CAP_DSHOW.\n",
    "'''\n",
    "# open video0\n",
    "cap = cv2.VideoCapture(\"/dev/video0\")\n",
    "# set width and height\n",
    "# cap.set(cv2.CAP_PROP_FRAME_WIDTH, 3264)\n",
    "# cap.set(cv2.CAP_PROP_FRAME_HEIGHT, 2448)\n",
    "# set fps\n",
    "cap.set(cv2.CAP_PROP_FPS, 15)\n",
    "while(True):\n",
    "    # Capture frame-by-frame\n",
    "    ret, frame = cap.read()\n",
    "    # Display the resulting frame\n",
    "    cv2.imshow('frame', frame)\n",
    "    if cv2.waitKey(1) & 0xFF == ord('q'):\n",
    "        break\n",
    "# When everything done, release the capture\n",
    "cap.release()\n",
    "cv2.destroyAllWindows()"
   ]
  },
  {
   "cell_type": "code",
   "execution_count": null,
   "metadata": {},
   "outputs": [],
   "source": [
    "import sys\n",
    "if (\"/home/nem/Projects/shepard/third_party/yolov5\") not in sys.path:\n",
    "    sys.path.append(\"/home/nem/Projects/shepard/third_party/yolov5\")  # add yolov5 to PATH\n",
    "from third_party.yolov5.utils.plots import Annotator\n",
    "from third_party.yolov5.utils.general import scale_coords\n",
    "\n",
    "\n",
    "cap = cv2.VideoCapture(\"/dev/video0\")\n",
    "while(True):\n",
    "    # Capture frame-by-frame\n",
    "    ret, frame = cap.read()\n",
    "    frame_continuous = np.ascontiguousarray(frame)  # contiguous\n",
    "    height, width = frame.shape[:2]\n",
    "    annotator = Annotator(frame_continuous, line_width=3)\n",
    "    annotator.box_label((200, 100, 300, 440), 'hi')\n",
    "    # Display the resulting frame\n",
    "    cv2.imshow('frame', annotator.result())\n",
    "    if cv2.waitKey(1) & 0xFF == ord('q'):\n",
    "        break\n",
    "# When everything done, release the capture\n",
    "cap.release()\n",
    "cv2.destroyAllWindows()"
   ]
  },
  {
   "cell_type": "code",
   "execution_count": null,
   "metadata": {},
   "outputs": [],
   "source": [
    "\n",
    "from pymavlink.dialects.v20 import common as mavlink\n",
    "\n",
    "mavlink.MAVLink_statustext_message(mavlink.STATUS_SEVERE,\n",
    "                                   statustext_send(KAV_SEVERITY, \"Hi\".encode(), 0, 0)\n",
    "\n",
    "                                   "
   ]
  },
  {
   "cell_type": "code",
   "execution_count": null,
   "metadata": {},
   "outputs": [],
   "source": [
    "import dronekit\n",
    "\n",
    "\n",
    "vehicle = dronekit.connect(\"/dev/ttyACM0\", heartbeat_timeout=15, source_system=0)\n",
    "print(help(vehicle.message_factory.encapsulated_data_send()))"
   ]
  },
  {
   "cell_type": "code",
   "execution_count": null,
   "metadata": {},
   "outputs": [],
   "source": [
    "from autopilot.autopilot_task import transmit_image\n",
    "import dronekit\n",
    "vehicle = dronekit.connect(\"/dev/ttyACM0\", heartbeat_timeout=15, source_system=0)\n",
    "transmit_image(vehicle, \"tests/pytorch_yolov5_image_inference/0.jpeg\")\n",
    "vehicle.close()"
   ]
  },
  {
   "cell_type": "code",
   "execution_count": null,
   "metadata": {},
   "outputs": [],
   "source": []
  }
 ],
 "metadata": {
  "kernelspec": {
   "display_name": "venv",
   "language": "python",
   "name": "python3"
  },
  "language_info": {
   "codemirror_mode": {
    "name": "ipython",
    "version": 3
   },
   "file_extension": ".py",
   "mimetype": "text/x-python",
   "name": "python",
   "nbconvert_exporter": "python",
   "pygments_lexer": "ipython3",
   "version": "3.10.6"
  },
  "orig_nbformat": 4,
  "vscode": {
   "interpreter": {
    "hash": "26093b5cb284262c768e30bc06564bebfa796b322d456977619091cf5cf5a930"
   }
  }
 },
 "nbformat": 4,
 "nbformat_minor": 2
}
